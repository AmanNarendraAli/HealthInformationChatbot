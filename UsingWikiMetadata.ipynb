{
 "cells": [
  {
   "cell_type": "code",
   "execution_count": 3,
   "metadata": {},
   "outputs": [
    {
     "name": "stdout",
     "output_type": "stream",
     "text": [
      "Total terms scraped: 3\n",
      "Sample of terms:\n",
      "- e\n",
      "- t\n",
      "- v\n"
     ]
    }
   ],
   "source": [
    "import requests\n",
    "from bs4 import BeautifulSoup\n",
    "import re\n",
    "\n",
    "def scrape_wikipedia_vital_articles():\n",
    "    url = \"https://en.wikipedia.org/wiki/Wikipedia:Vital_articles/Level/5/Biology_and_health_sciences/Health\"\n",
    "    response = requests.get(url)\n",
    "    soup = BeautifulSoup(response.text, 'html.parser')\n",
    "\n",
    "    categories = [\n",
    "        \"General concepts\", \"Medical procedures\", \"Human anatomy\", \n",
    "        \"Fields of medicine\", \"Drugs and medications\", \"Disease\", \n",
    "        \"Injury\", \"Disabilities\", \"Cancer\", \"Infectious disease\", \n",
    "        \"Mental disorders\", \"Symptoms and signs\", \"Health and fitness\", \n",
    "        \"Hygiene and grooming\"\n",
    "    ]\n",
    "\n",
    "    all_terms = set()\n",
    "\n",
    "    content_div = soup.find('div', {'class': 'mw-parser-output'})\n",
    "    if not content_div:\n",
    "        print(\"Couldn't find the main content div. The page structure might have changed.\")\n",
    "        return []\n",
    "\n",
    "    current_category = None\n",
    "    for element in content_div.children:\n",
    "        if element.name in ['h2', 'h3', 'h4']:\n",
    "            current_category = element.text.strip()\n",
    "            current_category = re.sub(r'\\[edit\\]', '', current_category).strip()\n",
    "        \n",
    "        if current_category in categories and element.name == 'ul':\n",
    "            items = element.find_all(\"li\")\n",
    "            for item in items:\n",
    "                term = re.sub(r'\\[.*?\\]', '', item.text).strip()\n",
    "                if term:\n",
    "                    all_terms.add(term)\n",
    "\n",
    "    return list(all_terms)\n",
    "\n",
    "# Run the scraper\n",
    "terms = scrape_wikipedia_vital_articles()\n",
    "\n",
    "# Print the results\n",
    "print(f\"Total terms scraped: {len(terms)}\")\n",
    "print(\"Sample of terms:\")\n",
    "for term in sorted(terms)[:20]:  # Print first 20 terms as a sample\n",
    "    print(f\"- {term}\")"
   ]
  }
 ],
 "metadata": {
  "kernelspec": {
   "display_name": "Python 3",
   "language": "python",
   "name": "python3"
  },
  "language_info": {
   "codemirror_mode": {
    "name": "ipython",
    "version": 3
   },
   "file_extension": ".py",
   "mimetype": "text/x-python",
   "name": "python",
   "nbconvert_exporter": "python",
   "pygments_lexer": "ipython3",
   "version": "3.9.7"
  }
 },
 "nbformat": 4,
 "nbformat_minor": 2
}
