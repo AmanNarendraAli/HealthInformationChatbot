{
 "cells": [
  {
   "cell_type": "code",
   "execution_count": 4,
   "metadata": {},
   "outputs": [
    {
     "name": "stdout",
     "output_type": "stream",
     "text": [
      "Processing folder: AA\n",
      "Processing folder: AB\n",
      "Processing folder: AC\n",
      "Processing folder: AD\n",
      "Processing folder: AE\n",
      "Processing folder: AF\n",
      "Processing folder: AG\n",
      "Processing folder: AH\n",
      "Processing folder: AI\n",
      "Processing folder: AJ\n",
      "Processing folder: AK\n",
      "Processing folder: AL\n",
      "Processing folder: AM\n",
      "Processing folder: AN\n",
      "Processing folder: AO\n",
      "Processing folder: AP\n",
      "Processing folder: AQ\n",
      "Processing folder: AR\n",
      "Processing folder: AS\n",
      "Processing folder: AT\n",
      "Processing folder: AU\n",
      "Processing folder: AV\n",
      "Processing folder: AW\n",
      "Processing folder: AX\n",
      "Processing folder: AY\n",
      "Processing folder: AZ\n",
      "Processing completed.\n"
     ]
    }
   ],
   "source": [
    "import os\n",
    "import json\n",
    "\n",
    "# Define the parent directory and the output file in the 'AA' folder\n",
    "parent_dir = \"C:/Users/wiztu/OneDrive/Documents/wikiextracted\"\n",
    "output_file = os.path.join(parent_dir, \"AA\", \"disease_info_A.txt\")\n",
    "\n",
    "# Open the output file to write the disease-related data from all folders\n",
    "with open(output_file, \"w\", encoding=\"utf-8\") as outfile:\n",
    "    # Loop through all folders from AA to AZ\n",
    "    for folder_name in os.listdir(parent_dir):\n",
    "        if folder_name.startswith(\"A\") and folder_name.isalpha() and len(folder_name) == 2:\n",
    "            folder_path = os.path.join(parent_dir, folder_name)\n",
    "            \n",
    "            print(f\"Processing folder: {folder_name}\")\n",
    "\n",
    "            # Loop through all the files in the folder\n",
    "            for file_name in os.listdir(folder_path):\n",
    "                if file_name.startswith(\"wiki_\") and file_name.endswith(\".txt\"):\n",
    "                    file_path = os.path.join(folder_path, file_name)\n",
    "\n",
    "                    print(f\"Processing file: {file_name}\")\n",
    "                    \n",
    "                    with open(file_path, \"r\", encoding=\"utf-8\") as infile:\n",
    "                        # Process each line as a separate JSON object\n",
    "                        for line in infile:\n",
    "                            try:\n",
    "                                article = json.loads(line.strip())\n",
    "                                title = article.get(\"title\", \"\").lower()\n",
    "                                text = article.get(\"text\", \"\").lower()\n",
    "\n",
    "                                # Check if the word 'disease' is in the title or the text\n",
    "                                if 'disease' in title or 'disease' in text:\n",
    "                                    # Write the entire article to the output file\n",
    "                                    outfile.write(f\"--- Article ID: {article.get('id')} ---\\n\")\n",
    "                                    outfile.write(f\"Title: {article.get('title')}\\n\")\n",
    "                                    outfile.write(f\"URL: {article.get('url')}\\n\")\n",
    "                                    outfile.write(f\"Text: {article.get('text')}\\n\\n\")\n",
    "\n",
    "                            except json.JSONDecodeError:\n",
    "                                print(f\"Error decoding JSON in file: {file_name}, skipping line.\")\n",
    "                                continue\n",
    "\n",
    "print(f\"Disease-related articles have been written to '{output_file}'\")\n"
   ]
  }
 ],
 "metadata": {
  "kernelspec": {
   "display_name": "Python 3",
   "language": "python",
   "name": "python3"
  },
  "language_info": {
   "codemirror_mode": {
    "name": "ipython",
    "version": 3
   },
   "file_extension": ".py",
   "mimetype": "text/x-python",
   "name": "python",
   "nbconvert_exporter": "python",
   "pygments_lexer": "ipython3",
   "version": "3.9.7"
  }
 },
 "nbformat": 4,
 "nbformat_minor": 2
}
